{
  "nbformat": 4,
  "nbformat_minor": 0,
  "metadata": {
    "colab": {
      "provenance": [],
      "authorship_tag": "ABX9TyM2SDA2YGh04ATyL8p5sKjB",
      "include_colab_link": true
    },
    "kernelspec": {
      "name": "python3",
      "display_name": "Python 3"
    },
    "language_info": {
      "name": "python"
    }
  },
  "cells": [
    {
      "cell_type": "markdown",
      "metadata": {
        "id": "view-in-github",
        "colab_type": "text"
      },
      "source": [
        "<a href=\"https://colab.research.google.com/github/ShrishtiSingh26/landslide_prediction/blob/main/main.ipynb\" target=\"_parent\"><img src=\"https://colab.research.google.com/assets/colab-badge.svg\" alt=\"Open In Colab\"/></a>"
      ]
    },
    {
      "cell_type": "code",
      "execution_count": null,
      "metadata": {
        "colab": {
          "base_uri": "https://localhost:8080/"
        },
        "id": "xzuEY8bqPBMK",
        "outputId": "80498ce0-6b3b-4e9c-ccd5-65d92a5f09e3"
      },
      "outputs": [
        {
          "output_type": "stream",
          "name": "stdout",
          "text": [
            "   Curvature  Slope  Aspect  Elevation  NDVI  Precipitation  LULC  Landslide\n",
            "0          1      3       3          3     1              3     1          2\n",
            "1          3      3       3          1     1              3     2          2\n",
            "2          3      3       3          1     1              3     2          2\n",
            "3          3      3       3          1     1              3     1          2\n",
            "4          3      3       3          1     1              3     2          2\n",
            "Curvature        0\n",
            "Slope            0\n",
            "Aspect           0\n",
            "Elevation        0\n",
            "NDVI             0\n",
            "Precipitation    0\n",
            "LULC             0\n",
            "Landslide        0\n",
            "dtype: int64\n"
          ]
        }
      ],
      "source": [
        "import pandas as pd\n",
        "from sklearn.model_selection import train_test_split\n",
        "from sklearn.preprocessing import StandardScaler\n",
        "from sklearn.ensemble import RandomForestClassifier\n",
        "from sklearn.metrics import classification_report, confusion_matrix, accuracy_score\n",
        "\n",
        "# Load the dataset\n",
        "file_path = '/content/RaigadLandslideDataset4ANN.csv'\n",
        "data = pd.read_csv(file_path)\n",
        "\n",
        "# Explore the dataset\n",
        "print(data.head())\n",
        "\n",
        "# Check for missing values\n",
        "print(data.isnull().sum())\n",
        "\n",
        "# Preprocess the data\n",
        "# Assume no missing values and no need for categorical encoding here\n",
        "\n",
        "# Separate features and target variable\n"
      ]
    },
    {
      "cell_type": "code",
      "source": [
        "X = data[['Curvature', 'Slope', 'Aspect', 'Elevation', 'NDVI', 'Precipitation', 'LULC']]\n",
        "y = data['Landslide']\n",
        "\n",
        "# Split the data into training and testing sets\n",
        "X_train, X_test, y_train, y_test = train_test_split(X, y, test_size=0.2, random_state=42)\n",
        "\n",
        "# Normalize the features\n",
        "scaler = StandardScaler()\n",
        "X_train = scaler.fit_transform(X_train)\n",
        "X_test = scaler.transform(X_test)\n",
        "\n",
        "# Choose a model (Random Forest in this case)\n",
        "model = RandomForestClassifier(random_state=42)\n",
        "\n",
        "# Train the model\n",
        "model.fit(X_train, y_train)\n",
        "\n",
        "# Make predictions\n",
        "y_train_pred = model.predict(X_train)\n",
        "y_test_pred = model.predict(X_test)\n",
        "\n",
        "# Calculate accuracy for training and testing data\n",
        "train_accuracy = accuracy_score(y_train, y_train_pred)\n",
        "test_accuracy = accuracy_score(y_test, y_test_pred)\n",
        "\n",
        "# Evaluate the model on testing data\n",
        "conf_matrix = confusion_matrix(y_test, y_test_pred)\n",
        "class_report = classification_report(y_test, y_test_pred)\n",
        "\n",
        "train_accuracy, test_accuracy, conf_matrix, class_report\n"
      ],
      "metadata": {
        "id": "Uy7CSkUGwwVH"
      },
      "execution_count": null,
      "outputs": []
    }
  ]
}